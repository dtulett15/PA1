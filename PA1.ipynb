{
 "cells": [
  {
   "cell_type": "code",
   "execution_count": null,
   "metadata": {},
   "outputs": [],
   "source": [
    "## Assignment 01 - Printing Algebraic Solutions"
   ]
  },
  {
   "cell_type": "code",
   "execution_count": null,
   "metadata": {},
   "outputs": [],
   "source": [
    "#creating a prompt for the user to input a floating \n",
    "#point number and an integer. Then reading out the\n",
    "#sum, difference, product, quotient, and data type"
   ]
  },
  {
   "cell_type": "code",
   "execution_count": 1,
   "metadata": {},
   "outputs": [
    {
     "name": "stdout",
     "output_type": "stream",
     "text": [
      "Enter a floating point number. 44.3\n",
      "Enter an integer. 16\n",
      "The sum is 60.3\n",
      "The difference is 28.3\n",
      "The product is 708.8\n",
      "The quotient is 2.769\n",
      "The type for the result is <class 'float'>\n"
     ]
    }
   ],
   "source": [
    "#user prompt to enter numbers\n",
    "num1 = float(input(\"Enter a floating point number. \"))\n",
    "num2 = int(input(\"Enter an integer. \"))\n",
    "\n",
    "#calculate the sum, diff, prod, quot\n",
    "sum1 = round(num1 + num2, 1)\n",
    "diff1 = round(abs(num1 - num2), 1)\n",
    "prod1 = round(num1 * num2, 1)\n",
    "quot1 = round(num1 / num2, 3)\n",
    "\n",
    "#print results w text & data type\n",
    "print(\"The sum is\", sum1)\n",
    "print(\"The difference is\", diff1)\n",
    "print(\"The product is\", prod1)\n",
    "print(\"The quotient is\", quot1)\n",
    "print(\"The type for the result is\", type(sum1))"
   ]
  },
  {
   "cell_type": "code",
   "execution_count": null,
   "metadata": {},
   "outputs": [],
   "source": []
  }
 ],
 "metadata": {
  "kernelspec": {
   "display_name": "Python 3",
   "language": "python",
   "name": "python3"
  },
  "language_info": {
   "codemirror_mode": {
    "name": "ipython",
    "version": 3
   },
   "file_extension": ".py",
   "mimetype": "text/x-python",
   "name": "python",
   "nbconvert_exporter": "python",
   "pygments_lexer": "ipython3",
   "version": "3.8.3"
  }
 },
 "nbformat": 4,
 "nbformat_minor": 4
}
